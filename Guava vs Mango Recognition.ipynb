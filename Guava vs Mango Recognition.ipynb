{
 "cells": [
  {
   "cell_type": "markdown",
   "metadata": {},
   "source": [
    "# Import Libraries"
   ]
  },
  {
   "cell_type": "code",
   "execution_count": 4,
   "metadata": {},
   "outputs": [],
   "source": [
    "import numpy as np\n",
    "from keras.preprocessing import image\n",
    "import cv2\n",
    "import os\n",
    "import tensorflow as tf\n",
    "from keras.preprocessing.image import ImageDataGenerator\n",
    "from sklearn import metrics\n"
   ]
  },
  {
   "cell_type": "markdown",
   "metadata": {},
   "source": [
    "# Load Training Image"
   ]
  },
  {
   "cell_type": "code",
   "execution_count": 5,
   "metadata": {},
   "outputs": [],
   "source": [
    "train_datagen = ImageDataGenerator(rescale = 1./255,\n",
    "                                   shear_range = 0.2,\n",
    "                                   zoom_range = 0.2,\n",
    "                                   horizontal_flip = True)"
   ]
  },
  {
   "cell_type": "code",
   "execution_count": 6,
   "metadata": {},
   "outputs": [
    {
     "name": "stdout",
     "output_type": "stream",
     "text": [
      "Found 800 images belonging to 2 classes.\n"
     ]
    }
   ],
   "source": [
    "training_set = train_datagen.flow_from_directory('C:\\\\Users\\\\Md Moradul Siddique\\\\Documents\\\\Untitled Folder\\\\Guava vs Mango\\\\train',\n",
    "                                                 target_size = (64, 64),\n",
    "                                                 batch_size = 32,\n",
    "                                                 class_mode = 'binary')"
   ]
  },
  {
   "cell_type": "markdown",
   "metadata": {},
   "source": [
    "# Load Test Image"
   ]
  },
  {
   "cell_type": "code",
   "execution_count": 7,
   "metadata": {},
   "outputs": [
    {
     "name": "stdout",
     "output_type": "stream",
     "text": [
      "Found 400 images belonging to 2 classes.\n"
     ]
    }
   ],
   "source": [
    "test_datagen = ImageDataGenerator(rescale = 1./255)\n",
    "test_set = test_datagen.flow_from_directory('C:\\\\Users\\\\Md Moradul Siddique\\\\Documents\\\\Untitled Folder\\\\Guava vs Mango\\\\test',\n",
    "                                            target_size = (64, 64),\n",
    "                                            batch_size = 32,\n",
    "                                            class_mode = 'binary')"
   ]
  },
  {
   "cell_type": "markdown",
   "metadata": {},
   "source": [
    "# Build CNN model"
   ]
  },
  {
   "cell_type": "code",
   "execution_count": 8,
   "metadata": {},
   "outputs": [
    {
     "name": "stdout",
     "output_type": "stream",
     "text": [
      "Building Neural Network.....\n",
      "Training cnn\n",
      "Epoch 1/25\n",
      "25/25 [==============================] - 8s 300ms/step - loss: 0.8189 - accuracy: 0.5311 - val_loss: 0.6867 - val_accuracy: 0.4975\n",
      "Epoch 2/25\n",
      "25/25 [==============================] - 5s 187ms/step - loss: 0.6420 - accuracy: 0.5908 - val_loss: 0.6801 - val_accuracy: 0.5575\n",
      "Epoch 3/25\n",
      "25/25 [==============================] - 4s 179ms/step - loss: 0.5136 - accuracy: 0.7541 - val_loss: 0.7027 - val_accuracy: 0.6125\n",
      "Epoch 4/25\n",
      "25/25 [==============================] - 4s 163ms/step - loss: 0.4426 - accuracy: 0.8172 - val_loss: 0.6173 - val_accuracy: 0.6275\n",
      "Epoch 5/25\n",
      "25/25 [==============================] - 7s 302ms/step - loss: 0.4412 - accuracy: 0.8171 - val_loss: 0.7597 - val_accuracy: 0.6300\n",
      "Epoch 6/25\n",
      "25/25 [==============================] - 6s 222ms/step - loss: 0.3917 - accuracy: 0.8348 - val_loss: 0.6565 - val_accuracy: 0.6175\n",
      "Epoch 7/25\n",
      "25/25 [==============================] - 6s 246ms/step - loss: 0.3801 - accuracy: 0.8343 - val_loss: 0.5446 - val_accuracy: 0.7125\n",
      "Epoch 8/25\n",
      "25/25 [==============================] - 4s 169ms/step - loss: 0.3751 - accuracy: 0.8434 - val_loss: 0.5816 - val_accuracy: 0.6675\n",
      "Epoch 9/25\n",
      "25/25 [==============================] - 8s 321ms/step - loss: 0.3393 - accuracy: 0.8581 - val_loss: 0.5139 - val_accuracy: 0.7475\n",
      "Epoch 10/25\n",
      "25/25 [==============================] - 7s 267ms/step - loss: 0.3423 - accuracy: 0.8557 - val_loss: 0.6603 - val_accuracy: 0.6725\n",
      "Epoch 11/25\n",
      "25/25 [==============================] - 5s 201ms/step - loss: 0.3481 - accuracy: 0.8416 - val_loss: 0.6120 - val_accuracy: 0.6600\n",
      "Epoch 12/25\n",
      "25/25 [==============================] - 4s 177ms/step - loss: 0.3332 - accuracy: 0.8595 - val_loss: 0.7117 - val_accuracy: 0.6575\n",
      "Epoch 13/25\n",
      "25/25 [==============================] - 7s 302ms/step - loss: 0.3983 - accuracy: 0.8071 - val_loss: 0.5409 - val_accuracy: 0.7200\n",
      "Epoch 14/25\n",
      "25/25 [==============================] - 5s 205ms/step - loss: 0.3012 - accuracy: 0.8749 - val_loss: 0.7098 - val_accuracy: 0.6800\n",
      "Epoch 15/25\n",
      "25/25 [==============================] - 5s 181ms/step - loss: 0.3149 - accuracy: 0.8489 - val_loss: 0.5529 - val_accuracy: 0.7375\n",
      "Epoch 16/25\n",
      "25/25 [==============================] - 4s 173ms/step - loss: 0.2719 - accuracy: 0.8992 - val_loss: 0.5079 - val_accuracy: 0.7775\n",
      "Epoch 17/25\n",
      "25/25 [==============================] - 7s 289ms/step - loss: 0.2587 - accuracy: 0.9001 - val_loss: 0.6307 - val_accuracy: 0.7200\n",
      "Epoch 18/25\n",
      "25/25 [==============================] - 5s 189ms/step - loss: 0.2642 - accuracy: 0.8972 - val_loss: 0.6001 - val_accuracy: 0.7050\n",
      "Epoch 19/25\n",
      "25/25 [==============================] - 5s 202ms/step - loss: 0.2779 - accuracy: 0.8875 - val_loss: 0.5779 - val_accuracy: 0.7375\n",
      "Epoch 20/25\n",
      "25/25 [==============================] - 5s 216ms/step - loss: 0.2290 - accuracy: 0.8998 - val_loss: 0.6281 - val_accuracy: 0.7350\n",
      "Epoch 21/25\n",
      "25/25 [==============================] - 7s 276ms/step - loss: 0.2229 - accuracy: 0.9054 - val_loss: 0.5441 - val_accuracy: 0.7675\n",
      "Epoch 22/25\n",
      "25/25 [==============================] - 5s 194ms/step - loss: 0.2568 - accuracy: 0.8897 - val_loss: 0.7326 - val_accuracy: 0.6900\n",
      "Epoch 23/25\n",
      "25/25 [==============================] - 5s 197ms/step - loss: 0.1917 - accuracy: 0.9141 - val_loss: 0.5630 - val_accuracy: 0.7650\n",
      "Epoch 24/25\n",
      "25/25 [==============================] - 4s 174ms/step - loss: 0.2245 - accuracy: 0.8962 - val_loss: 0.6733 - val_accuracy: 0.7350\n",
      "Epoch 25/25\n",
      "25/25 [==============================] - 4s 168ms/step - loss: 0.2236 - accuracy: 0.9145 - val_loss: 0.6279 - val_accuracy: 0.7325\n"
     ]
    },
    {
     "data": {
      "text/plain": [
       "<tensorflow.python.keras.callbacks.History at 0x2188a07e208>"
      ]
     },
     "execution_count": 8,
     "metadata": {},
     "output_type": "execute_result"
    }
   ],
   "source": [
    "cnn = tf.keras.models.Sequential()\n",
    "print(\"Building Neural Network.....\")\n",
    "cnn.add(tf.keras.layers.Conv2D(filters=32, kernel_size=3, activation='relu', input_shape=[64, 64, 3]))\n",
    "cnn.add(tf.keras.layers.MaxPool2D(pool_size=2, strides=2))\n",
    "cnn.add(tf.keras.layers.Conv2D(filters=32, kernel_size=3, activation='relu'))\n",
    "cnn.add(tf.keras.layers.MaxPool2D(pool_size=2, strides=2))\n",
    "cnn.add(tf.keras.layers.Flatten())\n",
    "cnn.add(tf.keras.layers.Dense(units=128, activation='relu'))\n",
    "cnn.add(tf.keras.layers.Dense(units=1, activation='sigmoid'))\n",
    "cnn.compile(optimizer = 'adam', loss = 'binary_crossentropy', metrics = ['accuracy'])\n",
    "print(\"Training cnn\")\n",
    "cnn.fit(x = training_set, validation_data = test_set, epochs = 25)"
   ]
  },
  {
   "cell_type": "markdown",
   "metadata": {},
   "source": [
    "# Test the model"
   ]
  },
  {
   "cell_type": "code",
   "execution_count": null,
   "metadata": {},
   "outputs": [],
   "source": [
    "vid = cv2.VideoCapture(0)\n",
    "print(\"Camera connection successfully established\")\n",
    "i = 0\n",
    "while(True):  \n",
    "    r, frame = vid.read() \n",
    "    cv2.imshow('frame', frame)\n",
    "    cv2.imwrite('C:\\\\Users\\\\Md Moradul Siddique\\\\Documents\\\\Untitled Folder\\\\Guava vs Mango\\\\final'+str(i)+\".jpg\", frame)\n",
    "    test_image = image.load_img('C:\\\\Users\\\\Md Moradul Siddique\\\\Documents\\\\Untitled Folder\\\\Guava vs Mango\\\\final'+str(i)+\".jpg\", target_size = (64, 64))\n",
    "    test_image = image.img_to_array(test_image)\n",
    "    test_image = np.expand_dims(test_image, axis = 0)\n",
    "    result = cnn.predict(test_image)\n",
    "    training_set.class_indices\n",
    "    if result[0][0] ==1:\n",
    "        print(\"Mango\")\n",
    "    if result[0][0] == 0:\n",
    "        print(\"Guava\")\n",
    "    os.remove('C:\\\\Users\\\\Md Moradul Siddique\\\\Documents\\\\Untitled Folder\\\\Guava vs Mango\\\\final'+str(i)+\".jpg\")\n",
    "    i = i + 1\n",
    "    if cv2.waitKey(1) & 0xFF == ord('q'): \n",
    "        break\n",
    "\n",
    "vid.release() \n",
    "cv2.destroyAllWindows() \n"
   ]
  },
  {
   "cell_type": "code",
   "execution_count": null,
   "metadata": {},
   "outputs": [],
   "source": []
  }
 ],
 "metadata": {
  "kernelspec": {
   "display_name": "Python 3",
   "language": "python",
   "name": "python3"
  },
  "language_info": {
   "codemirror_mode": {
    "name": "ipython",
    "version": 3
   },
   "file_extension": ".py",
   "mimetype": "text/x-python",
   "name": "python",
   "nbconvert_exporter": "python",
   "pygments_lexer": "ipython3",
   "version": "3.7.6"
  }
 },
 "nbformat": 4,
 "nbformat_minor": 4
}
